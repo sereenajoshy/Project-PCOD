{
  "cells": [
    {
      "cell_type": "markdown",
      "metadata": {
        "id": "view-in-github",
        "colab_type": "text"
      },
      "source": [
        "<a href=\"https://colab.research.google.com/github/sereenajoshy/Project-PCOD/blob/main/PCOD-Predictor.ipynb\" target=\"_parent\"><img src=\"https://colab.research.google.com/assets/colab-badge.svg\" alt=\"Open In Colab\"/></a>"
      ]
    },
    {
      "cell_type": "code",
      "execution_count": null,
      "metadata": {
        "colab": {
          "base_uri": "https://localhost:8080/"
        },
        "id": "2Nkg62_vNepA",
        "outputId": "a096cc8e-e327-4d23-e3fd-7e27d3f9e5d8"
      },
      "outputs": [
        {
          "output_type": "stream",
          "name": "stdout",
          "text": [
            "Requirement already satisfied: pandas in /usr/local/lib/python3.10/dist-packages (1.5.3)\n",
            "Requirement already satisfied: python-dateutil>=2.8.1 in /usr/local/lib/python3.10/dist-packages (from pandas) (2.8.2)\n",
            "Requirement already satisfied: pytz>=2020.1 in /usr/local/lib/python3.10/dist-packages (from pandas) (2023.4)\n",
            "Requirement already satisfied: numpy>=1.21.0 in /usr/local/lib/python3.10/dist-packages (from pandas) (1.25.2)\n",
            "Requirement already satisfied: six>=1.5 in /usr/local/lib/python3.10/dist-packages (from python-dateutil>=2.8.1->pandas) (1.16.0)\n",
            "Requirement already satisfied: scikit-learn in /usr/local/lib/python3.10/dist-packages (1.2.2)\n",
            "Requirement already satisfied: numpy>=1.17.3 in /usr/local/lib/python3.10/dist-packages (from scikit-learn) (1.25.2)\n",
            "Requirement already satisfied: scipy>=1.3.2 in /usr/local/lib/python3.10/dist-packages (from scikit-learn) (1.11.4)\n",
            "Requirement already satisfied: joblib>=1.1.1 in /usr/local/lib/python3.10/dist-packages (from scikit-learn) (1.3.2)\n",
            "Requirement already satisfied: threadpoolctl>=2.0.0 in /usr/local/lib/python3.10/dist-packages (from scikit-learn) (3.2.0)\n",
            "Requirement already satisfied: matplotlib in /usr/local/lib/python3.10/dist-packages (3.7.1)\n",
            "Requirement already satisfied: contourpy>=1.0.1 in /usr/local/lib/python3.10/dist-packages (from matplotlib) (1.2.0)\n",
            "Requirement already satisfied: cycler>=0.10 in /usr/local/lib/python3.10/dist-packages (from matplotlib) (0.12.1)\n",
            "Requirement already satisfied: fonttools>=4.22.0 in /usr/local/lib/python3.10/dist-packages (from matplotlib) (4.48.1)\n",
            "Requirement already satisfied: kiwisolver>=1.0.1 in /usr/local/lib/python3.10/dist-packages (from matplotlib) (1.4.5)\n",
            "Requirement already satisfied: numpy>=1.20 in /usr/local/lib/python3.10/dist-packages (from matplotlib) (1.25.2)\n",
            "Requirement already satisfied: packaging>=20.0 in /usr/local/lib/python3.10/dist-packages (from matplotlib) (23.2)\n",
            "Requirement already satisfied: pillow>=6.2.0 in /usr/local/lib/python3.10/dist-packages (from matplotlib) (9.4.0)\n",
            "Requirement already satisfied: pyparsing>=2.3.1 in /usr/local/lib/python3.10/dist-packages (from matplotlib) (3.1.1)\n",
            "Requirement already satisfied: python-dateutil>=2.7 in /usr/local/lib/python3.10/dist-packages (from matplotlib) (2.8.2)\n",
            "Requirement already satisfied: six>=1.5 in /usr/local/lib/python3.10/dist-packages (from python-dateutil>=2.7->matplotlib) (1.16.0)\n"
          ]
        }
      ],
      "source": [
        "# prompt: necessary libraries for a personal assistant project for PCOD in women\n",
        "\n",
        "!pip install pandas\n",
        "!pip install scikit-learn\n",
        "!pip install matplotlib"
      ]
    },
    {
      "cell_type": "code",
      "execution_count": null,
      "metadata": {
        "id": "zrX93He-NrZa"
      },
      "outputs": [],
      "source": [
        "# prompt: Now write the import statements\n",
        "\n",
        "import pandas as pd\n",
        "import sklearn as sk\n",
        "import matplotlib.pyplot as plt"
      ]
    },
    {
      "cell_type": "code",
      "execution_count": null,
      "metadata": {
        "colab": {
          "base_uri": "https://localhost:8080/"
        },
        "id": "ajCd1hcCt6fp",
        "outputId": "d3847809-cd5f-43c7-df99-105be4b1b194"
      },
      "outputs": [
        {
          "output_type": "stream",
          "name": "stdout",
          "text": [
            "              Symptom Yes/No\n",
            "0         Weight gain   None\n",
            "1   Irregular periods   None\n",
            "2                Acne   None\n",
            "3           Hirsutism   None\n",
            "4           Hair loss   None\n",
            "5         Mood swings   None\n",
            "6  Insulin resistance   None\n",
            "Do you have Weight gain? (yes/no): no\n",
            "Do you have Irregular periods? (yes/no): yes\n",
            "Do you have Acne? (yes/no): yes\n",
            "Do you have Hirsutism? (yes/no): yes\n",
            "Do you have Hair loss? (yes/no): yes\n",
            "Do you have Mood swings? (yes/no): yes\n",
            "Do you have Insulin resistance? (yes/no): no\n",
            "\n",
            "Updated data collection sheet:\n",
            "              Symptom Yes/No\n",
            "0         Weight gain     No\n",
            "1   Irregular periods    Yes\n",
            "2                Acne    Yes\n",
            "3           Hirsutism    Yes\n",
            "4           Hair loss    Yes\n",
            "5         Mood swings    Yes\n",
            "6  Insulin resistance     No\n"
          ]
        }
      ],
      "source": [
        "# prompt:a data collection sheet of PCOD symptoms\n",
        "\n",
        "import pandas as pd\n",
        "\n",
        "data = {\n",
        "    \"Symptom\": [\"Weight gain\", \"Irregular periods\", \"Acne\", \"Hirsutism\", \"Hair loss\", \"Mood swings\", \"Insulin resistance\"],\n",
        "    \"Yes/No\": [None, None, None, None, None, None, None]\n",
        "}\n",
        "\n",
        "df = pd.DataFrame(data)\n",
        "\n",
        "print(df.to_string())\n",
        "\n",
        "for i in range(len(df)):\n",
        "    answer = input(f\"Do you have {df['Symptom'][i]}? (yes/no): \")\n",
        "    if answer == \"yes\":\n",
        "        df.loc[i, \"Yes/No\"] = \"Yes\"\n",
        "    elif answer == \"no\":\n",
        "        df.loc[i, \"Yes/No\"] = \"No\"\n",
        "    else:\n",
        "        print(\"Invalid input. Please enter y or n.\")\n",
        "\n",
        "print(\"\\nUpdated data collection sheet:\")\n",
        "print(df.to_string())"
      ]
    },
    {
      "cell_type": "code",
      "execution_count": null,
      "metadata": {
        "colab": {
          "base_uri": "https://localhost:8080/"
        },
        "id": "nCfca-wAvJXF",
        "outputId": "4162bed7-761c-4d07-c851-cea86f80a821"
      },
      "outputs": [
        {
          "output_type": "stream",
          "name": "stdout",
          "text": [
            "\n",
            "You have PCOD.\n"
          ]
        }
      ],
      "source": [
        "# prompt: predict PCOD\n",
        "\n",
        "yes_count = df[\"Yes/No\"].value_counts().get(\"Yes\", 0)\n",
        "no_count = df[\"Yes/No\"].value_counts().get(\"No\", 0)\n",
        "\n",
        "if yes_count > no_count:\n",
        "    print(\"\\nYou have PCOD.\")\n",
        "else:\n",
        "    print(\"\\nYou have no PCOD.\")\n"
      ]
    },
    {
      "cell_type": "code",
      "source": [
        "# prompt: Remedial mesures and precautions.\n",
        "\n",
        "if yes_count > no_count:\n",
        "    print(\"\"\"\n",
        "PCOD is a hormonal disorder. You can manage your symptoms and improve your overall health. These include:\n",
        "\n",
        "* Eating a healthy diet that is low in processed foods and high in fruits, vegetables, and whole grains\n",
        "* Getting regular exercise\n",
        "* Maintaining a healthy weight\n",
        "* Taking medication to regulate your hormones, if necessary\n",
        "\"\"\")\n",
        "else:\n",
        "    print(\"\"\"\n",
        "PCOD is a hormonal disorder. If you do not have PCOD, there are still a number of things you can do to reduce your risk of developing the condition. These include:\n",
        "\n",
        "* Eating a healthy diet that is low in processed foods and high in fruits, vegetables, and whole grains\n",
        "* Getting regular exercise\n",
        "* Maintaining a healthy weight\n",
        "* Avoiding smoking and excessive alcohol consumption\n",
        "\"\"\")\n"
      ],
      "metadata": {
        "colab": {
          "base_uri": "https://localhost:8080/"
        },
        "id": "opTwwEBFxPP-",
        "outputId": "78e64388-133f-4d47-da40-be7fe2109beb"
      },
      "execution_count": null,
      "outputs": [
        {
          "output_type": "stream",
          "name": "stdout",
          "text": [
            "\n",
            "PCOD is a hormonal disorder. You can manage your symptoms and improve your overall health. These include:\n",
            "\n",
            "* Eating a healthy diet that is low in processed foods and high in fruits, vegetables, and whole grains\n",
            "* Getting regular exercise\n",
            "* Maintaining a healthy weight\n",
            "* Taking medication to regulate your hormones, if necessary\n",
            "\n"
          ]
        }
      ]
    }
  ],
  "metadata": {
    "colab": {
      "provenance": [],
      "authorship_tag": "ABX9TyMlcUz+HaUjn5OhpOWDZ7ST",
      "include_colab_link": true
    },
    "kernelspec": {
      "display_name": "Python 3",
      "name": "python3"
    },
    "language_info": {
      "name": "python"
    }
  },
  "nbformat": 4,
  "nbformat_minor": 0
}